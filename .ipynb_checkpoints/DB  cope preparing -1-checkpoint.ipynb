{
 "cells": [
  {
   "cell_type": "markdown",
   "id": "3d6931ea",
   "metadata": {},
   "source": [
    "# data folder coped renamed to English and creates  csv in folder Data Base/station yearly processed "
   ]
  },
  {
   "cell_type": "code",
   "execution_count": 1,
   "id": "567832dd",
   "metadata": {},
   "outputs": [],
   "source": [
    "import pandas as pd\n",
    "import os\n"
   ]
  },
  {
   "cell_type": "markdown",
   "id": "970d884a",
   "metadata": {},
   "source": [
    "### Everything in one function reads deletes and renames so that the data is ready (it does this according to a function that returns a list of who is in the source data file)\n"
   ]
  },
  {
   "cell_type": "code",
   "execution_count": 2,
   "id": "317941b7",
   "metadata": {},
   "outputs": [],
   "source": [
    "def xman(station_str):\n",
    "    \n",
    "        \n",
    "        input_path = f\"Data Base/stationYerly/{station_str}\"\n",
    "        df = pd.read_csv(input_path)\n",
    "\n",
    "        # Process DataFrame\n",
    "        df = df.drop(df.columns[0], axis=1)\n",
    "        df = df.rename(columns={df.columns[0]: 'date', df.columns[1]: f'rain(mm) in {station_str} '})\n",
    "        \n",
    "        # Save processed data to a new CSV file\n",
    "        output_folder = \"Processed Data/station yearly processed\"\n",
    "        output_path = os.path.join(output_folder,station_str)\n",
    "        df.to_csv(output_path, index=False)\n",
    "    \n",
    "   \n",
    "   "
   ]
  },
  {
   "cell_type": "markdown",
   "id": "b2297e3f",
   "metadata": {},
   "source": [
    "###### A list of the names in the source information folder "
   ]
  },
  {
   "cell_type": "code",
   "execution_count": 3,
   "id": "41e13c70",
   "metadata": {},
   "outputs": [
    {
     "name": "stdout",
     "output_type": "stream",
     "text": [
      "List of files in the directory:\n",
      "['ARVAT YAFRUQ KM 825.csv', 'ASHALIM NIZZANA ROAD KM 53.csv', 'BEER MENUHA KM 101.csv', 'BOUNDARY PILLAR 82.csv', 'DIMONA YEROHAM RD.csv', 'EN\\xa0GEDI\\xa0RD\\xa0OPP\\xa0MEZADA.csv', 'HAMAKHTESH HAGADOL WEST RIM.csv', 'HAMAKHTESH HAGADOL.csv', 'HAMESHAR.csv', 'HAR HATIRA ASCENT.csv', 'HAR HORESHA.csv', 'KM 71 ARAVA RD.csv', 'KOKHAV.csv', \"MA'ALE AQRABIM REGEM TZAFIR.csv\", 'MAKHTESH RAMON.csv', 'MAMSHIT KURNUB.csv', 'MIZPE ELAT.csv', 'NAHAL HIYYON.csv', 'NAHAL OMER KM 129.csv', 'NAHAL ZAVOA CROSS.csv', 'NAHAL ZIN MOUTH.csv', 'NIZZANA.csv', 'ORON JUNCTION.csv', 'PARAN RIVER - ROAD 40.csv', 'ROAD 40 - NAHAL ZIN  CROSSING.csv', 'SAYYARIM JUNCTION.csv', 'SEDOM ASCENT.csv', \"UPPER MA'ALE AQRABIM.csv\", 'YEROHAM S BOQER ROAD KM 42.csv', 'YEROHAM,DAM.csv', 'ZAFIT JUNCTION.csv']\n"
     ]
    }
   ],
   "source": [
    "def list_files_in_directory(directory):\n",
    "    \n",
    "        # Check if the directory exists\n",
    "        if not os.path.exists(directory):\n",
    "            print(f\"Directory '{directory}' not found.\")\n",
    "        \n",
    "        # List files in the directory\n",
    "        files = [f for f in os.listdir(directory) if os.path.isfile(os.path.join(directory, f))]\n",
    "        \n",
    "        return files\n",
    "    \n",
    "\n",
    "# Example usage\n",
    "directory_path = \"Data Base/stationYerly\"  \n",
    "file_list = list_files_in_directory(directory_path)\n",
    "\n",
    "\n",
    "\n",
    "\n",
    "print(\"List of files in the directory:\")\n",
    "\n",
    "print(file_list)"
   ]
  },
  {
   "cell_type": "code",
   "execution_count": 4,
   "id": "70065a0a",
   "metadata": {},
   "outputs": [],
   "source": [
    "for f in file_list:\n",
    "    xman(f)"
   ]
  },
  {
   "cell_type": "code",
   "execution_count": null,
   "id": "9f6c0719",
   "metadata": {},
   "outputs": [],
   "source": []
  },
  {
   "cell_type": "code",
   "execution_count": null,
   "id": "71f3a68e",
   "metadata": {},
   "outputs": [],
   "source": []
  },
  {
   "cell_type": "code",
   "execution_count": null,
   "id": "797dc50d",
   "metadata": {},
   "outputs": [],
   "source": []
  },
  {
   "cell_type": "code",
   "execution_count": null,
   "id": "28b5ae45",
   "metadata": {},
   "outputs": [],
   "source": []
  }
 ],
 "metadata": {
  "kernelspec": {
   "display_name": "Python 3 (ipykernel)",
   "language": "python",
   "name": "python3"
  },
  "language_info": {
   "codemirror_mode": {
    "name": "ipython",
    "version": 3
   },
   "file_extension": ".py",
   "mimetype": "text/x-python",
   "name": "python",
   "nbconvert_exporter": "python",
   "pygments_lexer": "ipython3",
   "version": "3.10.13"
  }
 },
 "nbformat": 4,
 "nbformat_minor": 5
}
